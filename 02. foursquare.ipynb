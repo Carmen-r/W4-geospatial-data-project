{
 "cells": [
  {
   "cell_type": "markdown",
   "id": "ad7c0841",
   "metadata": {},
   "source": [
    "### FOURSQUARE 🌍"
   ]
  },
  {
   "cell_type": "markdown",
   "id": "4ba2f182",
   "metadata": {},
   "source": [
    "I am going to search all the companies in `San Francisco`, `LA` and `NewYork` with `starbucks`, `vegan` and `travel`"
   ]
  },
  {
   "cell_type": "markdown",
   "id": "613fe319",
   "metadata": {},
   "source": [
    "### Libraries"
   ]
  },
  {
   "cell_type": "code",
   "execution_count": 2,
   "id": "ef4e9789",
   "metadata": {},
   "outputs": [
    {
     "data": {
      "text/plain": [
       "True"
      ]
     },
     "execution_count": 2,
     "metadata": {},
     "output_type": "execute_result"
    }
   ],
   "source": [
    "from functools import reduce\n",
    "import operator\n",
    "import requests\n",
    "import json\n",
    "from dotenv import load_dotenv\n",
    "import os\n",
    "import pandas as pd\n",
    "import scr.foursquare as f\n",
    "load_dotenv()"
   ]
  },
  {
   "cell_type": "code",
   "execution_count": 3,
   "id": "a3ebbc3a",
   "metadata": {},
   "outputs": [],
   "source": [
    "url_query = 'https://api.foursquare.com/v2/venues/explore'"
   ]
  },
  {
   "cell_type": "code",
   "execution_count": 4,
   "id": "b581fd27",
   "metadata": {},
   "outputs": [],
   "source": [
    "tok1 = os.getenv(\"tok1\")\n",
    "tok2 = os.getenv(\"tok2\")"
   ]
  },
  {
   "cell_type": "markdown",
   "id": "41290d90",
   "metadata": {},
   "source": [
    "1. San Francisco"
   ]
  },
  {
   "cell_type": "code",
   "execution_count": 5,
   "id": "484bac82",
   "metadata": {},
   "outputs": [],
   "source": [
    "sanfrancisco = {'type': 'Point', 'coordinates': [37.784174, -122.449408]}"
   ]
  },
  {
   "cell_type": "markdown",
   "id": "4a6b3f09",
   "metadata": {},
   "source": [
    "1.1 Starbucks 🧋"
   ]
  },
  {
   "cell_type": "code",
   "execution_count": 6,
   "id": "730a094c",
   "metadata": {},
   "outputs": [],
   "source": [
    "parametros = {\n",
    "       \"client_id\": tok1,\n",
    "       \"client_secret\": tok2,\n",
    "       \"v\": \"20180323\",\n",
    "       \"ll\": f\"{sanfrancisco.get('coordinates')[0]},{sanfrancisco.get('coordinates')[1]}\",\n",
    "       \"query\": \"starbucks\", \n",
    "       \"limit\": 170\n",
    "}"
   ]
  },
  {
   "cell_type": "code",
   "execution_count": 7,
   "id": "11db4527",
   "metadata": {},
   "outputs": [],
   "source": [
    "resp = requests.get(url= url_query, params = parametros).json()"
   ]
  },
  {
   "cell_type": "code",
   "execution_count": 8,
   "id": "208a7099",
   "metadata": {},
   "outputs": [],
   "source": [
    "sf_starbucks = resp.get(\"response\").get(\"groups\")[0].get(\"items\")"
   ]
  },
  {
   "cell_type": "code",
   "execution_count": 9,
   "id": "155d5387",
   "metadata": {},
   "outputs": [],
   "source": [
    "mapa_nombre =  [\"venue\", \"name\"]\n",
    "mapa_latitud = [\"venue\", \"location\", \"lat\"]\n",
    "mapa_longitud = [\"venue\", \"location\", \"lng\"]"
   ]
  },
  {
   "cell_type": "code",
   "execution_count": 11,
   "id": "700e84ba",
   "metadata": {},
   "outputs": [],
   "source": [
    "lista_starbucks = []\n",
    "for dic in sf_starbucks:\n",
    "    paralista = {}\n",
    "    paralista[\"name\"] = f.getFromDict(dic, mapa_nombre)\n",
    "    paralista[\"latitud\"]= f.getFromDict(dic, mapa_latitud)\n",
    "    paralista[\"longitud\"] = f.getFromDict(dic,mapa_longitud)\n",
    "    lista_starbucks.append(paralista)"
   ]
  },
  {
   "cell_type": "code",
   "execution_count": 11,
   "id": "afc5cc95",
   "metadata": {},
   "outputs": [
    {
     "data": {
      "text/html": [
       "<div>\n",
       "<style scoped>\n",
       "    .dataframe tbody tr th:only-of-type {\n",
       "        vertical-align: middle;\n",
       "    }\n",
       "\n",
       "    .dataframe tbody tr th {\n",
       "        vertical-align: top;\n",
       "    }\n",
       "\n",
       "    .dataframe thead th {\n",
       "        text-align: right;\n",
       "    }\n",
       "</style>\n",
       "<table border=\"1\" class=\"dataframe\">\n",
       "  <thead>\n",
       "    <tr style=\"text-align: right;\">\n",
       "      <th></th>\n",
       "      <th>name</th>\n",
       "      <th>latitud</th>\n",
       "      <th>longitud</th>\n",
       "    </tr>\n",
       "  </thead>\n",
       "  <tbody>\n",
       "    <tr>\n",
       "      <th>0</th>\n",
       "      <td>Starbucks</td>\n",
       "      <td>37.786220</td>\n",
       "      <td>-122.453203</td>\n",
       "    </tr>\n",
       "    <tr>\n",
       "      <th>1</th>\n",
       "      <td>Starbucks</td>\n",
       "      <td>37.799182</td>\n",
       "      <td>-122.449409</td>\n",
       "    </tr>\n",
       "    <tr>\n",
       "      <th>2</th>\n",
       "      <td>Starbucks</td>\n",
       "      <td>37.788652</td>\n",
       "      <td>-122.434757</td>\n",
       "    </tr>\n",
       "    <tr>\n",
       "      <th>3</th>\n",
       "      <td>Starbucks</td>\n",
       "      <td>37.782074</td>\n",
       "      <td>-122.447080</td>\n",
       "    </tr>\n",
       "    <tr>\n",
       "      <th>4</th>\n",
       "      <td>Starbucks</td>\n",
       "      <td>37.785980</td>\n",
       "      <td>-122.439830</td>\n",
       "    </tr>\n",
       "  </tbody>\n",
       "</table>\n",
       "</div>"
      ],
      "text/plain": [
       "        name    latitud    longitud\n",
       "0  Starbucks  37.786220 -122.453203\n",
       "1  Starbucks  37.799182 -122.449409\n",
       "2  Starbucks  37.788652 -122.434757\n",
       "3  Starbucks  37.782074 -122.447080\n",
       "4  Starbucks  37.785980 -122.439830"
      ]
     },
     "execution_count": 11,
     "metadata": {},
     "output_type": "execute_result"
    }
   ],
   "source": [
    "starbucks_sf = pd.DataFrame(lista_starbucks)\n",
    "starbucks_sf.head()"
   ]
  },
  {
   "cell_type": "markdown",
   "id": "4cf0d953",
   "metadata": {},
   "source": [
    "1.2 Travel 🌍"
   ]
  },
  {
   "cell_type": "code",
   "execution_count": 12,
   "id": "bf3d62a3",
   "metadata": {},
   "outputs": [],
   "source": [
    "parametros = {\n",
    "       \"client_id\": tok1,\n",
    "       \"client_secret\": tok2,\n",
    "       \"v\": \"20180323\",\n",
    "       \"ll\": f\"{sanfrancisco.get('coordinates')[0]},{sanfrancisco.get('coordinates')[1]}\",\n",
    "       \"query\": \"travel\", \n",
    "       \"limit\": 150\n",
    "}"
   ]
  },
  {
   "cell_type": "code",
   "execution_count": 13,
   "id": "e7f63fdb",
   "metadata": {},
   "outputs": [],
   "source": [
    "resp = requests.get(url= url_query, params = parametros).json()"
   ]
  },
  {
   "cell_type": "code",
   "execution_count": 14,
   "id": "be26b138",
   "metadata": {},
   "outputs": [],
   "source": [
    "sf_travel = resp.get(\"response\").get(\"groups\")[0].get(\"items\")"
   ]
  },
  {
   "cell_type": "code",
   "execution_count": 15,
   "id": "b44c643e",
   "metadata": {},
   "outputs": [],
   "source": [
    "lista_travel = []\n",
    "for dic in sf_travel:\n",
    "    paralista = {}\n",
    "    paralista[\"name\"] = f.getFromDict(dic, mapa_nombre)\n",
    "    paralista[\"latitud\"]= f.getFromDict(dic, mapa_latitud)\n",
    "    paralista[\"longitud\"] = f.getFromDict(dic,mapa_longitud)\n",
    "    lista_travel.append(paralista)"
   ]
  },
  {
   "cell_type": "code",
   "execution_count": 16,
   "id": "781bc0d8",
   "metadata": {},
   "outputs": [
    {
     "data": {
      "text/html": [
       "<div>\n",
       "<style scoped>\n",
       "    .dataframe tbody tr th:only-of-type {\n",
       "        vertical-align: middle;\n",
       "    }\n",
       "\n",
       "    .dataframe tbody tr th {\n",
       "        vertical-align: top;\n",
       "    }\n",
       "\n",
       "    .dataframe thead th {\n",
       "        text-align: right;\n",
       "    }\n",
       "</style>\n",
       "<table border=\"1\" class=\"dataframe\">\n",
       "  <thead>\n",
       "    <tr style=\"text-align: right;\">\n",
       "      <th></th>\n",
       "      <th>name</th>\n",
       "      <th>latitud</th>\n",
       "      <th>longitud</th>\n",
       "    </tr>\n",
       "  </thead>\n",
       "  <tbody>\n",
       "    <tr>\n",
       "      <th>0</th>\n",
       "      <td>San Francisco Tours with Isolda</td>\n",
       "      <td>37.782894</td>\n",
       "      <td>-122.445145</td>\n",
       "    </tr>\n",
       "    <tr>\n",
       "      <th>1</th>\n",
       "      <td>Passport Health San Francisco Travel Clinic</td>\n",
       "      <td>37.781597</td>\n",
       "      <td>-122.452414</td>\n",
       "    </tr>\n",
       "    <tr>\n",
       "      <th>2</th>\n",
       "      <td>AAA San Francisco Richmond District</td>\n",
       "      <td>37.782565</td>\n",
       "      <td>-122.465356</td>\n",
       "    </tr>\n",
       "    <tr>\n",
       "      <th>3</th>\n",
       "      <td>Travel Visa Pro</td>\n",
       "      <td>37.788220</td>\n",
       "      <td>-122.433973</td>\n",
       "    </tr>\n",
       "    <tr>\n",
       "      <th>4</th>\n",
       "      <td>CHINATOUR;INTERTRIP;文景假期</td>\n",
       "      <td>37.783019</td>\n",
       "      <td>-122.465245</td>\n",
       "    </tr>\n",
       "  </tbody>\n",
       "</table>\n",
       "</div>"
      ],
      "text/plain": [
       "                                          name    latitud    longitud\n",
       "0              San Francisco Tours with Isolda  37.782894 -122.445145\n",
       "1  Passport Health San Francisco Travel Clinic  37.781597 -122.452414\n",
       "2          AAA San Francisco Richmond District  37.782565 -122.465356\n",
       "3                              Travel Visa Pro  37.788220 -122.433973\n",
       "4                     CHINATOUR;INTERTRIP;文景假期  37.783019 -122.465245"
      ]
     },
     "execution_count": 16,
     "metadata": {},
     "output_type": "execute_result"
    }
   ],
   "source": [
    "travel_sf = pd.DataFrame(lista_travel)\n",
    "travel_sf.head()"
   ]
  },
  {
   "cell_type": "markdown",
   "id": "57a91580",
   "metadata": {},
   "source": [
    "1.3 Vegan 🥦"
   ]
  },
  {
   "cell_type": "code",
   "execution_count": 17,
   "id": "ec0d9270",
   "metadata": {},
   "outputs": [],
   "source": [
    "parametros = {\n",
    "       \"client_id\": tok1,\n",
    "       \"client_secret\": tok2,\n",
    "       \"v\": \"20180323\",\n",
    "       \"ll\": f\"{sanfrancisco.get('coordinates')[0]},{sanfrancisco.get('coordinates')[1]}\",\n",
    "       \"query\": \"vegan\", \n",
    "       \"limit\": 150\n",
    "}"
   ]
  },
  {
   "cell_type": "code",
   "execution_count": 18,
   "id": "45fe71c1",
   "metadata": {},
   "outputs": [],
   "source": [
    "resp = requests.get(url= url_query, params = parametros).json()"
   ]
  },
  {
   "cell_type": "code",
   "execution_count": 19,
   "id": "83ea483c",
   "metadata": {},
   "outputs": [],
   "source": [
    "sf_vegan = resp.get(\"response\").get(\"groups\")[0].get(\"items\")"
   ]
  },
  {
   "cell_type": "code",
   "execution_count": 20,
   "id": "dfa5136f",
   "metadata": {},
   "outputs": [],
   "source": [
    "lista_vegan = []\n",
    "for dic in sf_vegan:\n",
    "    paralista = {}\n",
    "    paralista[\"name\"] = f.getFromDict(dic, mapa_nombre)\n",
    "    paralista[\"latitud\"]= f.getFromDict(dic, mapa_latitud)\n",
    "    paralista[\"longitud\"] = f.getFromDict(dic,mapa_longitud)\n",
    "    lista_vegan.append(paralista)"
   ]
  },
  {
   "cell_type": "code",
   "execution_count": 21,
   "id": "16686eac",
   "metadata": {},
   "outputs": [
    {
     "data": {
      "text/html": [
       "<div>\n",
       "<style scoped>\n",
       "    .dataframe tbody tr th:only-of-type {\n",
       "        vertical-align: middle;\n",
       "    }\n",
       "\n",
       "    .dataframe tbody tr th {\n",
       "        vertical-align: top;\n",
       "    }\n",
       "\n",
       "    .dataframe thead th {\n",
       "        text-align: right;\n",
       "    }\n",
       "</style>\n",
       "<table border=\"1\" class=\"dataframe\">\n",
       "  <thead>\n",
       "    <tr style=\"text-align: right;\">\n",
       "      <th></th>\n",
       "      <th>name</th>\n",
       "      <th>latitud</th>\n",
       "      <th>longitud</th>\n",
       "    </tr>\n",
       "  </thead>\n",
       "  <tbody>\n",
       "    <tr>\n",
       "      <th>0</th>\n",
       "      <td>VeganBurg</td>\n",
       "      <td>37.770156</td>\n",
       "      <td>-122.446522</td>\n",
       "    </tr>\n",
       "    <tr>\n",
       "      <th>1</th>\n",
       "      <td>Nourish Cafe SF</td>\n",
       "      <td>37.785232</td>\n",
       "      <td>-122.464583</td>\n",
       "    </tr>\n",
       "    <tr>\n",
       "      <th>2</th>\n",
       "      <td>Wildseed</td>\n",
       "      <td>37.797626</td>\n",
       "      <td>-122.432440</td>\n",
       "    </tr>\n",
       "    <tr>\n",
       "      <th>3</th>\n",
       "      <td>Jane</td>\n",
       "      <td>37.789338</td>\n",
       "      <td>-122.433960</td>\n",
       "    </tr>\n",
       "    <tr>\n",
       "      <th>4</th>\n",
       "      <td>B. Patisserie</td>\n",
       "      <td>37.787945</td>\n",
       "      <td>-122.440804</td>\n",
       "    </tr>\n",
       "  </tbody>\n",
       "</table>\n",
       "</div>"
      ],
      "text/plain": [
       "              name    latitud    longitud\n",
       "0        VeganBurg  37.770156 -122.446522\n",
       "1  Nourish Cafe SF  37.785232 -122.464583\n",
       "2         Wildseed  37.797626 -122.432440\n",
       "3             Jane  37.789338 -122.433960\n",
       "4    B. Patisserie  37.787945 -122.440804"
      ]
     },
     "execution_count": 21,
     "metadata": {},
     "output_type": "execute_result"
    }
   ],
   "source": [
    "vegan_sf = pd.DataFrame(lista_vegan)\n",
    "vegan_sf.head()"
   ]
  },
  {
   "cell_type": "markdown",
   "id": "415a5a38",
   "metadata": {},
   "source": [
    "2. NewYork"
   ]
  },
  {
   "cell_type": "code",
   "execution_count": 22,
   "id": "fc2994ab",
   "metadata": {},
   "outputs": [],
   "source": [
    "newyork = {'type': 'Point', 'coordinates': [37.788482, -73.995625]}"
   ]
  },
  {
   "cell_type": "markdown",
   "id": "aa48dfec",
   "metadata": {},
   "source": [
    "2.1 Starbucks 🧋"
   ]
  },
  {
   "cell_type": "code",
   "execution_count": 23,
   "id": "be6a9512",
   "metadata": {},
   "outputs": [],
   "source": [
    "parametros = {\n",
    "       \"client_id\": tok1,\n",
    "       \"client_secret\": tok2,\n",
    "       \"v\": \"20180323\",\n",
    "       \"ll\": f\"{newyork.get('coordinates')[0]},{newyork.get('coordinates')[1]}\",\n",
    "       \"query\": \"starbucks\", \n",
    "       \"limit\": 150\n",
    "}"
   ]
  },
  {
   "cell_type": "code",
   "execution_count": 24,
   "id": "7f7d43e2",
   "metadata": {},
   "outputs": [],
   "source": [
    "resp = requests.get(url= url_query, params = parametros).json()"
   ]
  },
  {
   "cell_type": "code",
   "execution_count": 25,
   "id": "281ed678",
   "metadata": {},
   "outputs": [],
   "source": [
    "ny_starbucks = resp.get(\"response\").get(\"groups\")[0].get(\"items\")"
   ]
  },
  {
   "cell_type": "code",
   "execution_count": 26,
   "id": "ab6d73ea",
   "metadata": {},
   "outputs": [],
   "source": [
    "lista2_starbucks = []\n",
    "for dic in ny_starbucks:\n",
    "    paralista = {}\n",
    "    paralista[\"name\"] = f.getFromDict(dic, mapa_nombre)\n",
    "    paralista[\"latitud\"]= f.getFromDict(dic, mapa_latitud)\n",
    "    paralista[\"longitud\"] = f.getFromDict(dic,mapa_longitud)\n",
    "    lista2_starbucks.append(paralista)"
   ]
  },
  {
   "cell_type": "code",
   "execution_count": 27,
   "id": "097ce536",
   "metadata": {},
   "outputs": [
    {
     "data": {
      "text/html": [
       "<div>\n",
       "<style scoped>\n",
       "    .dataframe tbody tr th:only-of-type {\n",
       "        vertical-align: middle;\n",
       "    }\n",
       "\n",
       "    .dataframe tbody tr th {\n",
       "        vertical-align: top;\n",
       "    }\n",
       "\n",
       "    .dataframe thead th {\n",
       "        text-align: right;\n",
       "    }\n",
       "</style>\n",
       "<table border=\"1\" class=\"dataframe\">\n",
       "  <thead>\n",
       "    <tr style=\"text-align: right;\">\n",
       "      <th></th>\n",
       "      <th>name</th>\n",
       "      <th>latitud</th>\n",
       "      <th>longitud</th>\n",
       "    </tr>\n",
       "  </thead>\n",
       "  <tbody>\n",
       "    <tr>\n",
       "      <th>0</th>\n",
       "      <td>Starbucks</td>\n",
       "      <td>38.336294</td>\n",
       "      <td>-75.107792</td>\n",
       "    </tr>\n",
       "    <tr>\n",
       "      <th>1</th>\n",
       "      <td>Starbucks</td>\n",
       "      <td>38.335384</td>\n",
       "      <td>-75.100650</td>\n",
       "    </tr>\n",
       "    <tr>\n",
       "      <th>2</th>\n",
       "      <td>Starbucks</td>\n",
       "      <td>38.346629</td>\n",
       "      <td>-75.078033</td>\n",
       "    </tr>\n",
       "  </tbody>\n",
       "</table>\n",
       "</div>"
      ],
      "text/plain": [
       "        name    latitud   longitud\n",
       "0  Starbucks  38.336294 -75.107792\n",
       "1  Starbucks  38.335384 -75.100650\n",
       "2  Starbucks  38.346629 -75.078033"
      ]
     },
     "execution_count": 27,
     "metadata": {},
     "output_type": "execute_result"
    }
   ],
   "source": [
    "starbucks_ny = pd.DataFrame(lista2_starbucks)\n",
    "starbucks_ny"
   ]
  },
  {
   "cell_type": "markdown",
   "id": "518a6282",
   "metadata": {},
   "source": [
    "2.2 Travel 🌍"
   ]
  },
  {
   "cell_type": "code",
   "execution_count": 28,
   "id": "62cea015",
   "metadata": {},
   "outputs": [],
   "source": [
    "parametros = {\n",
    "       \"client_id\": tok1,\n",
    "       \"client_secret\": tok2,\n",
    "       \"v\": \"20180323\",\n",
    "       \"ll\": f\"{newyork.get('coordinates')[0]},{newyork.get('coordinates')[1]}\",\n",
    "       \"query\": \"travel\", \n",
    "       \"limit\": 150\n",
    "}"
   ]
  },
  {
   "cell_type": "code",
   "execution_count": 29,
   "id": "832b7c2d",
   "metadata": {},
   "outputs": [
    {
     "data": {
      "text/plain": [
       "{'meta': {'code': 200, 'requestId': '607d9b9c7ed53c21e5c05a14'},\n",
       " 'response': {'warning': {'text': 'There aren\\'t a lot of results for \"travel.\" Try something more general, reset your filters, or expand the search area.'},\n",
       "  'suggestedRadius': 30000,\n",
       "  'headerLocation': 'Current map view',\n",
       "  'headerFullLocation': 'Current map view',\n",
       "  'headerLocationGranularity': 'unknown',\n",
       "  'query': 'travel',\n",
       "  'totalResults': 0,\n",
       "  'groups': [{'type': 'Recommended Places',\n",
       "    'name': 'recommended',\n",
       "    'items': []}]}}"
      ]
     },
     "execution_count": 29,
     "metadata": {},
     "output_type": "execute_result"
    }
   ],
   "source": [
    "resp = requests.get(url= url_query, params = parametros).json()\n",
    "resp"
   ]
  },
  {
   "cell_type": "markdown",
   "id": "5a37a7ed",
   "metadata": {},
   "source": [
    "2.3 Vegan 🥦"
   ]
  },
  {
   "cell_type": "code",
   "execution_count": 30,
   "id": "413d032c",
   "metadata": {},
   "outputs": [],
   "source": [
    "parametros = {\n",
    "       \"client_id\": tok1,\n",
    "       \"client_secret\": tok2,\n",
    "       \"v\": \"20180323\",\n",
    "       \"ll\": f\"{newyork.get('coordinates')[0]},{newyork.get('coordinates')[1]}\",\n",
    "       \"query\": \"vegan\", \n",
    "       \"limit\": 100\n",
    "}"
   ]
  },
  {
   "cell_type": "code",
   "execution_count": 31,
   "id": "08dff61d",
   "metadata": {},
   "outputs": [
    {
     "data": {
      "text/plain": [
       "{'meta': {'code': 200, 'requestId': '607d9b9ca8228e453d039116'},\n",
       " 'response': {'warning': {'text': 'There aren\\'t a lot of results for \"vegan.\" Try something more general, reset your filters, or expand the search area.'},\n",
       "  'suggestedRadius': 30000,\n",
       "  'headerLocation': 'Current map view',\n",
       "  'headerFullLocation': 'Current map view',\n",
       "  'headerLocationGranularity': 'unknown',\n",
       "  'query': 'vegan',\n",
       "  'totalResults': 0,\n",
       "  'groups': [{'type': 'Recommended Places',\n",
       "    'name': 'recommended',\n",
       "    'items': []}]}}"
      ]
     },
     "execution_count": 31,
     "metadata": {},
     "output_type": "execute_result"
    }
   ],
   "source": [
    "resp = requests.get(url= url_query, params = parametros).json()\n",
    "resp"
   ]
  },
  {
   "cell_type": "markdown",
   "id": "a6cf19ea",
   "metadata": {},
   "source": [
    "3. LA"
   ]
  },
  {
   "cell_type": "code",
   "execution_count": 32,
   "id": "c178770e",
   "metadata": {},
   "outputs": [],
   "source": [
    "la = {'type': 'Point', 'coordinates': [34.051409, -118.254558]}"
   ]
  },
  {
   "cell_type": "markdown",
   "id": "4c6e583d",
   "metadata": {},
   "source": [
    "3.1 Starbucks 🧋"
   ]
  },
  {
   "cell_type": "code",
   "execution_count": 33,
   "id": "b3fc6be7",
   "metadata": {},
   "outputs": [],
   "source": [
    "parametros = {\n",
    "       \"client_id\": tok1,\n",
    "       \"client_secret\": tok2,\n",
    "       \"v\": \"20180323\",\n",
    "       \"ll\": f\"{la.get('coordinates')[0]},{la.get('coordinates')[1]}\",\n",
    "       \"query\": \"starbucks\", \n",
    "       \"limit\": 100\n",
    "}"
   ]
  },
  {
   "cell_type": "code",
   "execution_count": 34,
   "id": "f6fce2c8",
   "metadata": {},
   "outputs": [],
   "source": [
    "resp = requests.get(url= url_query, params = parametros).json()"
   ]
  },
  {
   "cell_type": "code",
   "execution_count": 35,
   "id": "060993ba",
   "metadata": {},
   "outputs": [],
   "source": [
    "la_starbucks = resp.get(\"response\").get(\"groups\")[0].get(\"items\")"
   ]
  },
  {
   "cell_type": "code",
   "execution_count": 36,
   "id": "d39c3606",
   "metadata": {},
   "outputs": [],
   "source": [
    "lista3_starbucks = []\n",
    "for dic in la_starbucks:\n",
    "    paralista = {}\n",
    "    paralista[\"name\"] = f.getFromDict(dic, mapa_nombre)\n",
    "    paralista[\"latitud\"]= f.getFromDict(dic, mapa_latitud)\n",
    "    paralista[\"longitud\"] = f.getFromDict(dic,mapa_longitud)\n",
    "    lista3_starbucks.append(paralista)"
   ]
  },
  {
   "cell_type": "code",
   "execution_count": 37,
   "id": "da383ec5",
   "metadata": {},
   "outputs": [
    {
     "data": {
      "text/html": [
       "<div>\n",
       "<style scoped>\n",
       "    .dataframe tbody tr th:only-of-type {\n",
       "        vertical-align: middle;\n",
       "    }\n",
       "\n",
       "    .dataframe tbody tr th {\n",
       "        vertical-align: top;\n",
       "    }\n",
       "\n",
       "    .dataframe thead th {\n",
       "        text-align: right;\n",
       "    }\n",
       "</style>\n",
       "<table border=\"1\" class=\"dataframe\">\n",
       "  <thead>\n",
       "    <tr style=\"text-align: right;\">\n",
       "      <th></th>\n",
       "      <th>name</th>\n",
       "      <th>latitud</th>\n",
       "      <th>longitud</th>\n",
       "    </tr>\n",
       "  </thead>\n",
       "  <tbody>\n",
       "    <tr>\n",
       "      <th>0</th>\n",
       "      <td>Starbucks</td>\n",
       "      <td>34.051515</td>\n",
       "      <td>-118.255442</td>\n",
       "    </tr>\n",
       "    <tr>\n",
       "      <th>1</th>\n",
       "      <td>Starbucks</td>\n",
       "      <td>34.048163</td>\n",
       "      <td>-118.258526</td>\n",
       "    </tr>\n",
       "    <tr>\n",
       "      <th>2</th>\n",
       "      <td>Starbucks</td>\n",
       "      <td>34.052882</td>\n",
       "      <td>-118.252523</td>\n",
       "    </tr>\n",
       "    <tr>\n",
       "      <th>3</th>\n",
       "      <td>Starbucks</td>\n",
       "      <td>34.049718</td>\n",
       "      <td>-118.253088</td>\n",
       "    </tr>\n",
       "    <tr>\n",
       "      <th>4</th>\n",
       "      <td>Starbucks</td>\n",
       "      <td>34.048921</td>\n",
       "      <td>-118.251969</td>\n",
       "    </tr>\n",
       "  </tbody>\n",
       "</table>\n",
       "</div>"
      ],
      "text/plain": [
       "        name    latitud    longitud\n",
       "0  Starbucks  34.051515 -118.255442\n",
       "1  Starbucks  34.048163 -118.258526\n",
       "2  Starbucks  34.052882 -118.252523\n",
       "3  Starbucks  34.049718 -118.253088\n",
       "4  Starbucks  34.048921 -118.251969"
      ]
     },
     "execution_count": 37,
     "metadata": {},
     "output_type": "execute_result"
    }
   ],
   "source": [
    "starbucks_la = pd.DataFrame(lista3_starbucks)\n",
    "starbucks_la.head()"
   ]
  },
  {
   "cell_type": "markdown",
   "id": "26be563c",
   "metadata": {},
   "source": [
    "3.2 Travel 🌍"
   ]
  },
  {
   "cell_type": "code",
   "execution_count": 38,
   "id": "594893fa",
   "metadata": {},
   "outputs": [],
   "source": [
    "parametros = {\n",
    "       \"client_id\": tok1,\n",
    "       \"client_secret\": tok2,\n",
    "       \"v\": \"20180323\",\n",
    "       \"ll\": f\"{la.get('coordinates')[0]},{la.get('coordinates')[1]}\",\n",
    "       \"query\": \"travel\", \n",
    "       \"limit\": 100\n",
    "}"
   ]
  },
  {
   "cell_type": "code",
   "execution_count": 39,
   "id": "ccb124f7",
   "metadata": {},
   "outputs": [],
   "source": [
    "resp = requests.get(url= url_query, params = parametros).json()"
   ]
  },
  {
   "cell_type": "code",
   "execution_count": 40,
   "id": "96dcb8cc",
   "metadata": {},
   "outputs": [],
   "source": [
    "la_travel = resp.get(\"response\").get(\"groups\")[0].get(\"items\")"
   ]
  },
  {
   "cell_type": "code",
   "execution_count": 41,
   "id": "59c150f3",
   "metadata": {},
   "outputs": [],
   "source": [
    "lista3_travel = []\n",
    "for dic in la_travel:\n",
    "    paralista = {}\n",
    "    paralista[\"name\"] = f.getFromDict(dic, mapa_nombre)\n",
    "    paralista[\"latitud\"]= f.getFromDict(dic, mapa_latitud)\n",
    "    paralista[\"longitud\"] = f.getFromDict(dic,mapa_longitud)\n",
    "    lista3_travel.append(paralista)"
   ]
  },
  {
   "cell_type": "code",
   "execution_count": 42,
   "id": "14dc9294",
   "metadata": {},
   "outputs": [
    {
     "data": {
      "text/html": [
       "<div>\n",
       "<style scoped>\n",
       "    .dataframe tbody tr th:only-of-type {\n",
       "        vertical-align: middle;\n",
       "    }\n",
       "\n",
       "    .dataframe tbody tr th {\n",
       "        vertical-align: top;\n",
       "    }\n",
       "\n",
       "    .dataframe thead th {\n",
       "        text-align: right;\n",
       "    }\n",
       "</style>\n",
       "<table border=\"1\" class=\"dataframe\">\n",
       "  <thead>\n",
       "    <tr style=\"text-align: right;\">\n",
       "      <th></th>\n",
       "      <th>name</th>\n",
       "      <th>latitud</th>\n",
       "      <th>longitud</th>\n",
       "    </tr>\n",
       "  </thead>\n",
       "  <tbody>\n",
       "    <tr>\n",
       "      <th>0</th>\n",
       "      <td>Tao Travel 365</td>\n",
       "      <td>34.052926</td>\n",
       "      <td>-118.252190</td>\n",
       "    </tr>\n",
       "    <tr>\n",
       "      <th>1</th>\n",
       "      <td>Liberty Travel</td>\n",
       "      <td>34.049029</td>\n",
       "      <td>-118.258746</td>\n",
       "    </tr>\n",
       "    <tr>\n",
       "      <th>2</th>\n",
       "      <td>Moulin Rouge Travel</td>\n",
       "      <td>34.048327</td>\n",
       "      <td>-118.249967</td>\n",
       "    </tr>\n",
       "    <tr>\n",
       "      <th>3</th>\n",
       "      <td>JW Marriott Los Angeles L.A. LIVE</td>\n",
       "      <td>34.045241</td>\n",
       "      <td>-118.266471</td>\n",
       "    </tr>\n",
       "    <tr>\n",
       "      <th>4</th>\n",
       "      <td>Travel Visa Pro</td>\n",
       "      <td>34.051454</td>\n",
       "      <td>-118.265684</td>\n",
       "    </tr>\n",
       "  </tbody>\n",
       "</table>\n",
       "</div>"
      ],
      "text/plain": [
       "                                name    latitud    longitud\n",
       "0                     Tao Travel 365  34.052926 -118.252190\n",
       "1                     Liberty Travel  34.049029 -118.258746\n",
       "2                Moulin Rouge Travel  34.048327 -118.249967\n",
       "3  JW Marriott Los Angeles L.A. LIVE  34.045241 -118.266471\n",
       "4                    Travel Visa Pro  34.051454 -118.265684"
      ]
     },
     "execution_count": 42,
     "metadata": {},
     "output_type": "execute_result"
    }
   ],
   "source": [
    "travel_la = pd.DataFrame(lista3_travel)\n",
    "travel_la.head()"
   ]
  },
  {
   "cell_type": "markdown",
   "id": "17390ce4",
   "metadata": {},
   "source": [
    "3.3 Vegan 🥦"
   ]
  },
  {
   "cell_type": "code",
   "execution_count": 43,
   "id": "7ddaac59",
   "metadata": {},
   "outputs": [],
   "source": [
    "parametros = {\n",
    "       \"client_id\": tok1,\n",
    "       \"client_secret\": tok2,\n",
    "       \"v\": \"20180323\",\n",
    "       \"ll\": f\"{la.get('coordinates')[0]},{la.get('coordinates')[1]}\",\n",
    "       \"query\": \"vegan\", \n",
    "       \"limit\": 100\n",
    "}"
   ]
  },
  {
   "cell_type": "code",
   "execution_count": 44,
   "id": "513b32e3",
   "metadata": {},
   "outputs": [],
   "source": [
    "resp = requests.get(url= url_query, params = parametros).json()"
   ]
  },
  {
   "cell_type": "code",
   "execution_count": 45,
   "id": "55d6f840",
   "metadata": {},
   "outputs": [],
   "source": [
    "la_vegan = resp.get(\"response\").get(\"groups\")[0].get(\"items\")"
   ]
  },
  {
   "cell_type": "code",
   "execution_count": 46,
   "id": "3eb2b568",
   "metadata": {},
   "outputs": [],
   "source": [
    "lista3_vegan = []\n",
    "for dic in la_vegan:\n",
    "    paralista = {}\n",
    "    paralista[\"name\"] = f.getFromDict(dic, mapa_nombre)\n",
    "    paralista[\"latitud\"]= f.getFromDict(dic, mapa_latitud)\n",
    "    paralista[\"longitud\"] = f.getFromDict(dic,mapa_longitud)\n",
    "    lista3_vegan.append(paralista)"
   ]
  },
  {
   "cell_type": "code",
   "execution_count": 47,
   "id": "d0165ba2",
   "metadata": {},
   "outputs": [
    {
     "data": {
      "text/html": [
       "<div>\n",
       "<style scoped>\n",
       "    .dataframe tbody tr th:only-of-type {\n",
       "        vertical-align: middle;\n",
       "    }\n",
       "\n",
       "    .dataframe tbody tr th {\n",
       "        vertical-align: top;\n",
       "    }\n",
       "\n",
       "    .dataframe thead th {\n",
       "        text-align: right;\n",
       "    }\n",
       "</style>\n",
       "<table border=\"1\" class=\"dataframe\">\n",
       "  <thead>\n",
       "    <tr style=\"text-align: right;\">\n",
       "      <th></th>\n",
       "      <th>name</th>\n",
       "      <th>latitud</th>\n",
       "      <th>longitud</th>\n",
       "    </tr>\n",
       "  </thead>\n",
       "  <tbody>\n",
       "    <tr>\n",
       "      <th>0</th>\n",
       "      <td>Veggie Grill</td>\n",
       "      <td>34.048655</td>\n",
       "      <td>-118.254717</td>\n",
       "    </tr>\n",
       "    <tr>\n",
       "      <th>1</th>\n",
       "      <td>sweetgreen</td>\n",
       "      <td>34.050542</td>\n",
       "      <td>-118.254117</td>\n",
       "    </tr>\n",
       "    <tr>\n",
       "      <th>2</th>\n",
       "      <td>Tender Greens</td>\n",
       "      <td>34.048294</td>\n",
       "      <td>-118.254539</td>\n",
       "    </tr>\n",
       "    <tr>\n",
       "      <th>3</th>\n",
       "      <td>Ramen Hood</td>\n",
       "      <td>34.050631</td>\n",
       "      <td>-118.248688</td>\n",
       "    </tr>\n",
       "    <tr>\n",
       "      <th>4</th>\n",
       "      <td>Tierra Cafe</td>\n",
       "      <td>34.049986</td>\n",
       "      <td>-118.258714</td>\n",
       "    </tr>\n",
       "  </tbody>\n",
       "</table>\n",
       "</div>"
      ],
      "text/plain": [
       "            name    latitud    longitud\n",
       "0   Veggie Grill  34.048655 -118.254717\n",
       "1     sweetgreen  34.050542 -118.254117\n",
       "2  Tender Greens  34.048294 -118.254539\n",
       "3     Ramen Hood  34.050631 -118.248688\n",
       "4    Tierra Cafe  34.049986 -118.258714"
      ]
     },
     "execution_count": 47,
     "metadata": {},
     "output_type": "execute_result"
    }
   ],
   "source": [
    "vegan_la = pd.DataFrame(lista3_vegan)\n",
    "vegan_la.head()"
   ]
  },
  {
   "cell_type": "markdown",
   "id": "fd6703de",
   "metadata": {},
   "source": [
    "### Conversión a tipo point"
   ]
  },
  {
   "cell_type": "markdown",
   "id": "8ccfa486",
   "metadata": {},
   "source": [
    "- I have made a first filter and I have ruled out New York because there were not many vegans and travel "
   ]
  },
  {
   "cell_type": "markdown",
   "id": "fcafa59d",
   "metadata": {},
   "source": [
    "1. SF"
   ]
  },
  {
   "cell_type": "code",
   "execution_count": 48,
   "id": "3de61803",
   "metadata": {},
   "outputs": [],
   "source": [
    "#Make a list to convert coordinates to point type\n",
    "sf_starb = []\n",
    "for sf in lista_starbucks:\n",
    "    temporal = {\n",
    "        \"name\": sf.get(\"name\"),\n",
    "        \"location\": {\"type\": \"Point\", \"coordinates\": [sf.get(\"longitud\"), sf.get(\"latitud\"),]}\n",
    "        \n",
    "    }\n",
    "    sf_starb.append(temporal)"
   ]
  },
  {
   "cell_type": "code",
   "execution_count": 49,
   "id": "79dd459f",
   "metadata": {},
   "outputs": [
    {
     "data": {
      "text/html": [
       "<div>\n",
       "<style scoped>\n",
       "    .dataframe tbody tr th:only-of-type {\n",
       "        vertical-align: middle;\n",
       "    }\n",
       "\n",
       "    .dataframe tbody tr th {\n",
       "        vertical-align: top;\n",
       "    }\n",
       "\n",
       "    .dataframe thead th {\n",
       "        text-align: right;\n",
       "    }\n",
       "</style>\n",
       "<table border=\"1\" class=\"dataframe\">\n",
       "  <thead>\n",
       "    <tr style=\"text-align: right;\">\n",
       "      <th></th>\n",
       "      <th>name</th>\n",
       "      <th>location</th>\n",
       "      <th>local</th>\n",
       "    </tr>\n",
       "  </thead>\n",
       "  <tbody>\n",
       "    <tr>\n",
       "      <th>0</th>\n",
       "      <td>Starbucks</td>\n",
       "      <td>{'type': 'Point', 'coordinates': [-122.453203,...</td>\n",
       "      <td>starbucks</td>\n",
       "    </tr>\n",
       "    <tr>\n",
       "      <th>1</th>\n",
       "      <td>Starbucks</td>\n",
       "      <td>{'type': 'Point', 'coordinates': [-122.4494085...</td>\n",
       "      <td>starbucks</td>\n",
       "    </tr>\n",
       "    <tr>\n",
       "      <th>2</th>\n",
       "      <td>Starbucks</td>\n",
       "      <td>{'type': 'Point', 'coordinates': [-122.4347566...</td>\n",
       "      <td>starbucks</td>\n",
       "    </tr>\n",
       "    <tr>\n",
       "      <th>3</th>\n",
       "      <td>Starbucks</td>\n",
       "      <td>{'type': 'Point', 'coordinates': [-122.44708, ...</td>\n",
       "      <td>starbucks</td>\n",
       "    </tr>\n",
       "    <tr>\n",
       "      <th>4</th>\n",
       "      <td>Starbucks</td>\n",
       "      <td>{'type': 'Point', 'coordinates': [-122.43983, ...</td>\n",
       "      <td>starbucks</td>\n",
       "    </tr>\n",
       "  </tbody>\n",
       "</table>\n",
       "</div>"
      ],
      "text/plain": [
       "        name                                           location      local\n",
       "0  Starbucks  {'type': 'Point', 'coordinates': [-122.453203,...  starbucks\n",
       "1  Starbucks  {'type': 'Point', 'coordinates': [-122.4494085...  starbucks\n",
       "2  Starbucks  {'type': 'Point', 'coordinates': [-122.4347566...  starbucks\n",
       "3  Starbucks  {'type': 'Point', 'coordinates': [-122.44708, ...  starbucks\n",
       "4  Starbucks  {'type': 'Point', 'coordinates': [-122.43983, ...  starbucks"
      ]
     },
     "execution_count": 49,
     "metadata": {},
     "output_type": "execute_result"
    }
   ],
   "source": [
    "df1 = pd.DataFrame(sf_starb)\n",
    "#Create a column with the name 'local' in order to count how many locals are in the place\n",
    "df1['local'] = 'starbucks'\n",
    "df1.head()"
   ]
  },
  {
   "cell_type": "code",
   "execution_count": 50,
   "id": "6a3ed462",
   "metadata": {},
   "outputs": [],
   "source": [
    "sf_trav = []\n",
    "for sf in lista_travel:\n",
    "    temporal = {\n",
    "        \"name\": sf.get(\"name\"),\n",
    "        \"location\": {\"type\": \"Point\", \"coordinates\": [sf.get(\"longitud\"), sf.get(\"latitud\"),]}\n",
    "        \n",
    "    }\n",
    "    sf_trav.append(temporal)"
   ]
  },
  {
   "cell_type": "code",
   "execution_count": 51,
   "id": "52bfe236",
   "metadata": {},
   "outputs": [
    {
     "data": {
      "text/html": [
       "<div>\n",
       "<style scoped>\n",
       "    .dataframe tbody tr th:only-of-type {\n",
       "        vertical-align: middle;\n",
       "    }\n",
       "\n",
       "    .dataframe tbody tr th {\n",
       "        vertical-align: top;\n",
       "    }\n",
       "\n",
       "    .dataframe thead th {\n",
       "        text-align: right;\n",
       "    }\n",
       "</style>\n",
       "<table border=\"1\" class=\"dataframe\">\n",
       "  <thead>\n",
       "    <tr style=\"text-align: right;\">\n",
       "      <th></th>\n",
       "      <th>name</th>\n",
       "      <th>location</th>\n",
       "      <th>local</th>\n",
       "    </tr>\n",
       "  </thead>\n",
       "  <tbody>\n",
       "    <tr>\n",
       "      <th>0</th>\n",
       "      <td>San Francisco Tours with Isolda</td>\n",
       "      <td>{'type': 'Point', 'coordinates': [-122.4451446...</td>\n",
       "      <td>travel</td>\n",
       "    </tr>\n",
       "    <tr>\n",
       "      <th>1</th>\n",
       "      <td>Passport Health San Francisco Travel Clinic</td>\n",
       "      <td>{'type': 'Point', 'coordinates': [-122.4524135...</td>\n",
       "      <td>travel</td>\n",
       "    </tr>\n",
       "    <tr>\n",
       "      <th>2</th>\n",
       "      <td>AAA San Francisco Richmond District</td>\n",
       "      <td>{'type': 'Point', 'coordinates': [-122.4653562...</td>\n",
       "      <td>travel</td>\n",
       "    </tr>\n",
       "    <tr>\n",
       "      <th>3</th>\n",
       "      <td>Travel Visa Pro</td>\n",
       "      <td>{'type': 'Point', 'coordinates': [-122.433973,...</td>\n",
       "      <td>travel</td>\n",
       "    </tr>\n",
       "    <tr>\n",
       "      <th>4</th>\n",
       "      <td>CHINATOUR;INTERTRIP;文景假期</td>\n",
       "      <td>{'type': 'Point', 'coordinates': [-122.4652446...</td>\n",
       "      <td>travel</td>\n",
       "    </tr>\n",
       "  </tbody>\n",
       "</table>\n",
       "</div>"
      ],
      "text/plain": [
       "                                          name  \\\n",
       "0              San Francisco Tours with Isolda   \n",
       "1  Passport Health San Francisco Travel Clinic   \n",
       "2          AAA San Francisco Richmond District   \n",
       "3                              Travel Visa Pro   \n",
       "4                     CHINATOUR;INTERTRIP;文景假期   \n",
       "\n",
       "                                            location   local  \n",
       "0  {'type': 'Point', 'coordinates': [-122.4451446...  travel  \n",
       "1  {'type': 'Point', 'coordinates': [-122.4524135...  travel  \n",
       "2  {'type': 'Point', 'coordinates': [-122.4653562...  travel  \n",
       "3  {'type': 'Point', 'coordinates': [-122.433973,...  travel  \n",
       "4  {'type': 'Point', 'coordinates': [-122.4652446...  travel  "
      ]
     },
     "execution_count": 51,
     "metadata": {},
     "output_type": "execute_result"
    }
   ],
   "source": [
    "df2 = pd.DataFrame(sf_trav)\n",
    "df2['local'] = 'travel'\n",
    "df2.head()"
   ]
  },
  {
   "cell_type": "code",
   "execution_count": 52,
   "id": "4f454cfe",
   "metadata": {},
   "outputs": [],
   "source": [
    "sf_vegano = []\n",
    "for sf in lista_vegan:\n",
    "    temporal = {\n",
    "        \"name\": sf.get(\"name\"),\n",
    "        \"location\": {\"type\": \"Point\", \"coordinates\": [sf.get(\"longitud\"), sf.get(\"latitud\")]}\n",
    "        \n",
    "    }\n",
    "    sf_vegano.append(temporal)"
   ]
  },
  {
   "cell_type": "code",
   "execution_count": 53,
   "id": "bc2a5c5e",
   "metadata": {},
   "outputs": [
    {
     "data": {
      "text/html": [
       "<div>\n",
       "<style scoped>\n",
       "    .dataframe tbody tr th:only-of-type {\n",
       "        vertical-align: middle;\n",
       "    }\n",
       "\n",
       "    .dataframe tbody tr th {\n",
       "        vertical-align: top;\n",
       "    }\n",
       "\n",
       "    .dataframe thead th {\n",
       "        text-align: right;\n",
       "    }\n",
       "</style>\n",
       "<table border=\"1\" class=\"dataframe\">\n",
       "  <thead>\n",
       "    <tr style=\"text-align: right;\">\n",
       "      <th></th>\n",
       "      <th>name</th>\n",
       "      <th>location</th>\n",
       "      <th>local</th>\n",
       "    </tr>\n",
       "  </thead>\n",
       "  <tbody>\n",
       "    <tr>\n",
       "      <th>0</th>\n",
       "      <td>VeganBurg</td>\n",
       "      <td>{'type': 'Point', 'coordinates': [-122.4465223...</td>\n",
       "      <td>vegan</td>\n",
       "    </tr>\n",
       "    <tr>\n",
       "      <th>1</th>\n",
       "      <td>Nourish Cafe SF</td>\n",
       "      <td>{'type': 'Point', 'coordinates': [-122.4645833...</td>\n",
       "      <td>vegan</td>\n",
       "    </tr>\n",
       "    <tr>\n",
       "      <th>2</th>\n",
       "      <td>Wildseed</td>\n",
       "      <td>{'type': 'Point', 'coordinates': [-122.4324404...</td>\n",
       "      <td>vegan</td>\n",
       "    </tr>\n",
       "    <tr>\n",
       "      <th>3</th>\n",
       "      <td>Jane</td>\n",
       "      <td>{'type': 'Point', 'coordinates': [-122.4339598...</td>\n",
       "      <td>vegan</td>\n",
       "    </tr>\n",
       "    <tr>\n",
       "      <th>4</th>\n",
       "      <td>B. Patisserie</td>\n",
       "      <td>{'type': 'Point', 'coordinates': [-122.440804,...</td>\n",
       "      <td>vegan</td>\n",
       "    </tr>\n",
       "  </tbody>\n",
       "</table>\n",
       "</div>"
      ],
      "text/plain": [
       "              name                                           location  local\n",
       "0        VeganBurg  {'type': 'Point', 'coordinates': [-122.4465223...  vegan\n",
       "1  Nourish Cafe SF  {'type': 'Point', 'coordinates': [-122.4645833...  vegan\n",
       "2         Wildseed  {'type': 'Point', 'coordinates': [-122.4324404...  vegan\n",
       "3             Jane  {'type': 'Point', 'coordinates': [-122.4339598...  vegan\n",
       "4    B. Patisserie  {'type': 'Point', 'coordinates': [-122.440804,...  vegan"
      ]
     },
     "execution_count": 53,
     "metadata": {},
     "output_type": "execute_result"
    }
   ],
   "source": [
    "df3 = pd.DataFrame(sf_vegano)\n",
    "df3['local'] = 'vegan'\n",
    "df3.head()"
   ]
  },
  {
   "cell_type": "markdown",
   "id": "c0366dc3",
   "metadata": {},
   "source": [
    "2. LA"
   ]
  },
  {
   "cell_type": "code",
   "execution_count": 54,
   "id": "5734e986",
   "metadata": {},
   "outputs": [],
   "source": [
    "la_star = []\n",
    "for la in lista3_starbucks:\n",
    "    temporal = {\n",
    "        \"name\": la.get(\"name\"),\n",
    "        \"location\": {\"type\": \"Point\", \"coordinates\": [la.get(\"longitud\"), la.get(\"latitud\"),]}\n",
    "        \n",
    "    }\n",
    "    la_star.append(temporal)"
   ]
  },
  {
   "cell_type": "code",
   "execution_count": 55,
   "id": "dd48d7c8",
   "metadata": {},
   "outputs": [
    {
     "data": {
      "text/html": [
       "<div>\n",
       "<style scoped>\n",
       "    .dataframe tbody tr th:only-of-type {\n",
       "        vertical-align: middle;\n",
       "    }\n",
       "\n",
       "    .dataframe tbody tr th {\n",
       "        vertical-align: top;\n",
       "    }\n",
       "\n",
       "    .dataframe thead th {\n",
       "        text-align: right;\n",
       "    }\n",
       "</style>\n",
       "<table border=\"1\" class=\"dataframe\">\n",
       "  <thead>\n",
       "    <tr style=\"text-align: right;\">\n",
       "      <th></th>\n",
       "      <th>name</th>\n",
       "      <th>location</th>\n",
       "      <th>local</th>\n",
       "    </tr>\n",
       "  </thead>\n",
       "  <tbody>\n",
       "    <tr>\n",
       "      <th>0</th>\n",
       "      <td>Starbucks</td>\n",
       "      <td>{'type': 'Point', 'coordinates': [-118.2554422...</td>\n",
       "      <td>starbucks</td>\n",
       "    </tr>\n",
       "    <tr>\n",
       "      <th>1</th>\n",
       "      <td>Starbucks</td>\n",
       "      <td>{'type': 'Point', 'coordinates': [-118.2585263...</td>\n",
       "      <td>starbucks</td>\n",
       "    </tr>\n",
       "    <tr>\n",
       "      <th>2</th>\n",
       "      <td>Starbucks</td>\n",
       "      <td>{'type': 'Point', 'coordinates': [-118.2525229...</td>\n",
       "      <td>starbucks</td>\n",
       "    </tr>\n",
       "    <tr>\n",
       "      <th>3</th>\n",
       "      <td>Starbucks</td>\n",
       "      <td>{'type': 'Point', 'coordinates': [-118.2530877...</td>\n",
       "      <td>starbucks</td>\n",
       "    </tr>\n",
       "    <tr>\n",
       "      <th>4</th>\n",
       "      <td>Starbucks</td>\n",
       "      <td>{'type': 'Point', 'coordinates': [-118.2519692...</td>\n",
       "      <td>starbucks</td>\n",
       "    </tr>\n",
       "  </tbody>\n",
       "</table>\n",
       "</div>"
      ],
      "text/plain": [
       "        name                                           location      local\n",
       "0  Starbucks  {'type': 'Point', 'coordinates': [-118.2554422...  starbucks\n",
       "1  Starbucks  {'type': 'Point', 'coordinates': [-118.2585263...  starbucks\n",
       "2  Starbucks  {'type': 'Point', 'coordinates': [-118.2525229...  starbucks\n",
       "3  Starbucks  {'type': 'Point', 'coordinates': [-118.2530877...  starbucks\n",
       "4  Starbucks  {'type': 'Point', 'coordinates': [-118.2519692...  starbucks"
      ]
     },
     "execution_count": 55,
     "metadata": {},
     "output_type": "execute_result"
    }
   ],
   "source": [
    "df4 = pd.DataFrame(la_star)\n",
    "df4['local'] = 'starbucks'\n",
    "df4.head()"
   ]
  },
  {
   "cell_type": "code",
   "execution_count": 56,
   "id": "d923b532",
   "metadata": {},
   "outputs": [],
   "source": [
    "la_trav = []\n",
    "for la in lista3_travel:\n",
    "    temporal = {\n",
    "        \"name\": la.get(\"name\"),\n",
    "        \"location\": {\"type\": \"Point\", \"coordinates\": [la.get(\"longitud\"), la.get(\"latitud\")]}\n",
    "        \n",
    "    }\n",
    "    la_trav.append(temporal)"
   ]
  },
  {
   "cell_type": "code",
   "execution_count": 58,
   "id": "de10714e",
   "metadata": {},
   "outputs": [
    {
     "data": {
      "text/html": [
       "<div>\n",
       "<style scoped>\n",
       "    .dataframe tbody tr th:only-of-type {\n",
       "        vertical-align: middle;\n",
       "    }\n",
       "\n",
       "    .dataframe tbody tr th {\n",
       "        vertical-align: top;\n",
       "    }\n",
       "\n",
       "    .dataframe thead th {\n",
       "        text-align: right;\n",
       "    }\n",
       "</style>\n",
       "<table border=\"1\" class=\"dataframe\">\n",
       "  <thead>\n",
       "    <tr style=\"text-align: right;\">\n",
       "      <th></th>\n",
       "      <th>name</th>\n",
       "      <th>location</th>\n",
       "      <th>local</th>\n",
       "    </tr>\n",
       "  </thead>\n",
       "  <tbody>\n",
       "    <tr>\n",
       "      <th>0</th>\n",
       "      <td>Tao Travel 365</td>\n",
       "      <td>{'type': 'Point', 'coordinates': [-118.2521903...</td>\n",
       "      <td>travel</td>\n",
       "    </tr>\n",
       "    <tr>\n",
       "      <th>1</th>\n",
       "      <td>Liberty Travel</td>\n",
       "      <td>{'type': 'Point', 'coordinates': [-118.258746,...</td>\n",
       "      <td>travel</td>\n",
       "    </tr>\n",
       "    <tr>\n",
       "      <th>2</th>\n",
       "      <td>Moulin Rouge Travel</td>\n",
       "      <td>{'type': 'Point', 'coordinates': [-118.249967,...</td>\n",
       "      <td>travel</td>\n",
       "    </tr>\n",
       "    <tr>\n",
       "      <th>3</th>\n",
       "      <td>JW Marriott Los Angeles L.A. LIVE</td>\n",
       "      <td>{'type': 'Point', 'coordinates': [-118.2664713...</td>\n",
       "      <td>travel</td>\n",
       "    </tr>\n",
       "    <tr>\n",
       "      <th>4</th>\n",
       "      <td>Travel Visa Pro</td>\n",
       "      <td>{'type': 'Point', 'coordinates': [-118.2656842...</td>\n",
       "      <td>travel</td>\n",
       "    </tr>\n",
       "  </tbody>\n",
       "</table>\n",
       "</div>"
      ],
      "text/plain": [
       "                                name  \\\n",
       "0                     Tao Travel 365   \n",
       "1                     Liberty Travel   \n",
       "2                Moulin Rouge Travel   \n",
       "3  JW Marriott Los Angeles L.A. LIVE   \n",
       "4                    Travel Visa Pro   \n",
       "\n",
       "                                            location   local  \n",
       "0  {'type': 'Point', 'coordinates': [-118.2521903...  travel  \n",
       "1  {'type': 'Point', 'coordinates': [-118.258746,...  travel  \n",
       "2  {'type': 'Point', 'coordinates': [-118.249967,...  travel  \n",
       "3  {'type': 'Point', 'coordinates': [-118.2664713...  travel  \n",
       "4  {'type': 'Point', 'coordinates': [-118.2656842...  travel  "
      ]
     },
     "execution_count": 58,
     "metadata": {},
     "output_type": "execute_result"
    }
   ],
   "source": [
    "df5 = pd.DataFrame(la_trav)\n",
    "df5['local'] = 'travel'\n",
    "df5.head()"
   ]
  },
  {
   "cell_type": "code",
   "execution_count": 66,
   "id": "f51c9d49",
   "metadata": {},
   "outputs": [],
   "source": [
    "la_vegano = []\n",
    "for la in lista3_vegan:\n",
    "    temporal = {\n",
    "        \"name\": la.get(\"name\"),\n",
    "        \"location\": {\"type\": \"Point\", \"coordinates\": [la.get(\"longitud\"), la.get(\"latitud\")]}\n",
    "        \n",
    "    }\n",
    "    la_vegano.append(temporal)"
   ]
  },
  {
   "cell_type": "code",
   "execution_count": 67,
   "id": "04574177",
   "metadata": {},
   "outputs": [
    {
     "data": {
      "text/html": [
       "<div>\n",
       "<style scoped>\n",
       "    .dataframe tbody tr th:only-of-type {\n",
       "        vertical-align: middle;\n",
       "    }\n",
       "\n",
       "    .dataframe tbody tr th {\n",
       "        vertical-align: top;\n",
       "    }\n",
       "\n",
       "    .dataframe thead th {\n",
       "        text-align: right;\n",
       "    }\n",
       "</style>\n",
       "<table border=\"1\" class=\"dataframe\">\n",
       "  <thead>\n",
       "    <tr style=\"text-align: right;\">\n",
       "      <th></th>\n",
       "      <th>name</th>\n",
       "      <th>location</th>\n",
       "      <th>local</th>\n",
       "    </tr>\n",
       "  </thead>\n",
       "  <tbody>\n",
       "    <tr>\n",
       "      <th>0</th>\n",
       "      <td>Veggie Grill</td>\n",
       "      <td>{'type': 'Point', 'coordinates': [-118.2547171...</td>\n",
       "      <td>vegan</td>\n",
       "    </tr>\n",
       "    <tr>\n",
       "      <th>1</th>\n",
       "      <td>sweetgreen</td>\n",
       "      <td>{'type': 'Point', 'coordinates': [-118.2541173...</td>\n",
       "      <td>vegan</td>\n",
       "    </tr>\n",
       "    <tr>\n",
       "      <th>2</th>\n",
       "      <td>Tender Greens</td>\n",
       "      <td>{'type': 'Point', 'coordinates': [-118.2545385...</td>\n",
       "      <td>vegan</td>\n",
       "    </tr>\n",
       "    <tr>\n",
       "      <th>3</th>\n",
       "      <td>Ramen Hood</td>\n",
       "      <td>{'type': 'Point', 'coordinates': [-118.2486878...</td>\n",
       "      <td>vegan</td>\n",
       "    </tr>\n",
       "    <tr>\n",
       "      <th>4</th>\n",
       "      <td>Tierra Cafe</td>\n",
       "      <td>{'type': 'Point', 'coordinates': [-118.2587144...</td>\n",
       "      <td>vegan</td>\n",
       "    </tr>\n",
       "  </tbody>\n",
       "</table>\n",
       "</div>"
      ],
      "text/plain": [
       "            name                                           location  local\n",
       "0   Veggie Grill  {'type': 'Point', 'coordinates': [-118.2547171...  vegan\n",
       "1     sweetgreen  {'type': 'Point', 'coordinates': [-118.2541173...  vegan\n",
       "2  Tender Greens  {'type': 'Point', 'coordinates': [-118.2545385...  vegan\n",
       "3     Ramen Hood  {'type': 'Point', 'coordinates': [-118.2486878...  vegan\n",
       "4    Tierra Cafe  {'type': 'Point', 'coordinates': [-118.2587144...  vegan"
      ]
     },
     "execution_count": 67,
     "metadata": {},
     "output_type": "execute_result"
    }
   ],
   "source": [
    "df6 = pd.DataFrame(la_vegano)\n",
    "df6['local'] = 'vegan'\n",
    "df6.head()"
   ]
  },
  {
   "cell_type": "markdown",
   "id": "297f995a",
   "metadata": {},
   "source": [
    "### Value counts"
   ]
  },
  {
   "cell_type": "code",
   "execution_count": 59,
   "id": "72f9a006",
   "metadata": {},
   "outputs": [
    {
     "data": {
      "text/plain": [
       "starbucks    54\n",
       "Name: local, dtype: int64"
      ]
     },
     "execution_count": 59,
     "metadata": {},
     "output_type": "execute_result"
    }
   ],
   "source": [
    "df1.local.value_counts()"
   ]
  },
  {
   "cell_type": "code",
   "execution_count": 60,
   "id": "c6601a65",
   "metadata": {},
   "outputs": [
    {
     "data": {
      "text/plain": [
       "travel    12\n",
       "Name: local, dtype: int64"
      ]
     },
     "execution_count": 60,
     "metadata": {},
     "output_type": "execute_result"
    }
   ],
   "source": [
    "df2.local.value_counts()"
   ]
  },
  {
   "cell_type": "code",
   "execution_count": 61,
   "id": "9a17f42c",
   "metadata": {},
   "outputs": [
    {
     "data": {
      "text/plain": [
       "vegan    85\n",
       "Name: local, dtype: int64"
      ]
     },
     "execution_count": 61,
     "metadata": {},
     "output_type": "execute_result"
    }
   ],
   "source": [
    "df3.local.value_counts()"
   ]
  },
  {
   "cell_type": "code",
   "execution_count": 62,
   "id": "03897a61",
   "metadata": {},
   "outputs": [
    {
     "data": {
      "text/plain": [
       "starbucks    49\n",
       "Name: local, dtype: int64"
      ]
     },
     "execution_count": 62,
     "metadata": {},
     "output_type": "execute_result"
    }
   ],
   "source": [
    "df4.local.value_counts()"
   ]
  },
  {
   "cell_type": "code",
   "execution_count": 63,
   "id": "1630aad9",
   "metadata": {},
   "outputs": [
    {
     "data": {
      "text/plain": [
       "travel    19\n",
       "Name: local, dtype: int64"
      ]
     },
     "execution_count": 63,
     "metadata": {},
     "output_type": "execute_result"
    }
   ],
   "source": [
    "df5.local.value_counts()"
   ]
  },
  {
   "cell_type": "code",
   "execution_count": 68,
   "id": "50c1362e",
   "metadata": {},
   "outputs": [
    {
     "data": {
      "text/plain": [
       "vegan    48\n",
       "Name: local, dtype: int64"
      ]
     },
     "execution_count": 68,
     "metadata": {},
     "output_type": "execute_result"
    }
   ],
   "source": [
    "df6.local.value_counts()"
   ]
  },
  {
   "cell_type": "markdown",
   "id": "b76c038a",
   "metadata": {},
   "source": [
    "`- I have made the second decision and I have ruled out LA because there are more starbucks and vegans in SF. The differences in the trips is minimal, and I prefer that the CEO and Executives to be happy.`"
   ]
  },
  {
   "cell_type": "markdown",
   "id": "abf5d129",
   "metadata": {},
   "source": [
    "### EXPORTING THE DF"
   ]
  },
  {
   "cell_type": "code",
   "execution_count": null,
   "id": "261bad8a",
   "metadata": {},
   "outputs": [],
   "source": [
    "df1.to_json(\"json/starbuckssf.json\", orient=\"records\")\n",
    "df2.to_json(\"json/travelsf.json\", orient=\"records\")\n",
    "df3.to_json(\"json/vegansf.json\", orient=\"records\")\n",
    "df4.to_json(\"json/starbucksla.json\", orient=\"records\")\n",
    "df5.to_json(\"json/travella.json\", orient=\"records\")\n",
    "df6.to_json(\"json/veganla.json\", orient=\"records\")"
   ]
  }
 ],
 "metadata": {
  "kernelspec": {
   "display_name": "ironhack",
   "language": "python",
   "name": "ironhack"
  },
  "language_info": {
   "codemirror_mode": {
    "name": "ipython",
    "version": 3
   },
   "file_extension": ".py",
   "mimetype": "text/x-python",
   "name": "python",
   "nbconvert_exporter": "python",
   "pygments_lexer": "ipython3",
   "version": "3.8.8"
  }
 },
 "nbformat": 4,
 "nbformat_minor": 5
}
